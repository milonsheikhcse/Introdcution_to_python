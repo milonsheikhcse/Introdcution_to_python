{
 "cells": [
  {
   "cell_type": "markdown",
   "metadata": {},
   "source": [
    "# Markdown\n",
    "\n",
    " <a id = \"the_top\"></a>"
   ]
  },
  {
   "cell_type": "markdown",
   "metadata": {},
   "source": [
    "## Markdwon Cells\n",
    "\n",
    "* [wikepedia pafe](https://en.wikipedia.org/wiki/Markdown/)\n",
    "* \n",
    "\n",
    "Lorem ipsum dolor sit amet consectetur adipisicing elit. Maxime mollitia,\n",
    "molestiae quas vel sint commodi repudiandae consequuntur voluptatum laborum\n",
    "numquam blanditiis harum quisquam eius sed odit fugiat iusto fuga praesentium\n",
    "optio, eaque rerum! Provident similique accusantium nemo autem. Veritatis\n",
    "obcaecati tenetur iure eius earum ut molestias architecto voluptate aliquam\n",
    "nihil, eveniet aliquid culpa officia aut! Impedit sit sunt quaerat, odit,\n",
    "tenetur error, harum nesciunt ipsum debitis quas aliquid. Reprehenderit,\n",
    "quia. Quo neque error repudiandae fuga? Ipsa laudantium molestias eos \n",
    "sapiente officiis modi at sunt excepturi expedita sint? Sed quibusdam\n",
    "recusandae alias error harum maxime adipisci amet laborum."
   ]
  },
  {
   "cell_type": "markdown",
   "metadata": {},
   "source": [
    "# Heading\n",
    "## subheading\n",
    "### subsuheading\n",
    "#### ect\n",
    "##### etc\n"
   ]
  },
  {
   "cell_type": "markdown",
   "metadata": {},
   "source": [
    "### lists\n",
    "\n",
    "Make a list like this:\n",
    "* Item one\n",
    "* Item two\n",
    "    * Sub-bullet1\n",
    "    * Sub-bullet2\n",
    "        * Sub-Sub bullet1\n",
    "        * Sub-Sub bullet2"
   ]
  },
  {
   "cell_type": "markdown",
   "metadata": {},
   "source": [
    "### num. list\n",
    "1. Item\n",
    "2. Item\n",
    "    1. Item\n",
    "    2. Item\n",
    "        1. item\n",
    "        2. item\n",
    "            1. itemitem\n",
    "        "
   ]
  },
  {
   "cell_type": "markdown",
   "metadata": {},
   "source": [
    "# Links\n",
    "\n",
    "make hyper links lik this ```[Link Text](http://somesite.com)```  \"\"\"[Link Text](http://somesite.com)\"\"\""
   ]
  },
  {
   "cell_type": "markdown",
   "metadata": {},
   "source": [
    "You can link to location inside the document. this is convenient for making, say, alinked table of contents. Here`s hwo:\n",
    "* put an html anchor at the target location:\n",
    "    * ```<a id = 'my_target_name'></a>```\n",
    "* put the link to the target anywhere else in the notebook:\n",
    "    * ```[Link text] (#my_target_name)```\n",
    "*Fro example [here is a link to the top of this page](#the_top)\n",
    "    * Double click the cell at the first cell at the top to see the achor ``` <a id = \"the_top\"></a>```\n",
    "    "
   ]
  },
  {
   "cell_type": "markdown",
   "metadata": {},
   "source": [
    "# Bold, Italic, Colored Text\n",
    "\n",
    "\n"
   ]
  },
  {
   "cell_type": "markdown",
   "metadata": {},
   "source": [
    "Here is how to make **Colored** Text: <br>\n",
    "  * For example: ```<font color='green'> This is colored</font>``` <br>\n",
    "  * for example: <font color='gree'> This is colored green</font>\n",
    "    \n",
    "    \n",
    "        "
   ]
  },
  {
   "cell_type": "markdown",
   "metadata": {},
   "source": [
    "**Italicize** text between ```* like this : *text italic*```\n",
    "* This is : *This is itaclic*"
   ]
  },
  {
   "cell_type": "markdown",
   "metadata": {},
   "source": [
    "**Bold** text between ```**` like this: **text bold**```\n",
    "* this is: **This is bold**"
   ]
  },
  {
   "cell_type": "markdown",
   "metadata": {},
   "source": [
    "**Under line** html tags like this : ```<u> text </u>```\n",
    "* this is <u>This will be underlined</u>\n"
   ]
  },
  {
   "cell_type": "markdown",
   "metadata": {},
   "source": [
    "# continue tutorial [link](https://www.youtube.com/watch?v=jBCB23pQeIA&t=351s)"
   ]
  }
 ],
 "metadata": {
  "kernelspec": {
   "display_name": "Python 3",
   "language": "python",
   "name": "python3"
  },
  "language_info": {
   "codemirror_mode": {
    "name": "ipython",
    "version": 3
   },
   "file_extension": ".py",
   "mimetype": "text/x-python",
   "name": "python",
   "nbconvert_exporter": "python",
   "pygments_lexer": "ipython3",
   "version": "3.8.5"
  }
 },
 "nbformat": 4,
 "nbformat_minor": 4
}
